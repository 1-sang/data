{
 "cells": [
  {
   "cell_type": "code",
   "execution_count": 1,
   "metadata": {},
   "outputs": [
    {
     "data": {
      "text/plain": [
       "89.92443324937027"
      ]
     },
     "execution_count": 1,
     "metadata": {},
     "output_type": "execute_result"
    }
   ],
   "source": [
    "# 사용할 데이터 import\n",
    "\n",
    "import numpy as np\n",
    "import pandas as pd\n",
    "from sklearn.preprocessing import LabelEncoder\n",
    "from sklearn.preprocessing import StandardScaler\n",
    "from sklearn.decomposition import PCA\n",
    "from sklearn.linear_model import LogisticRegression\n",
    "from sklearn.pipeline import make_pipeline\n",
    "from sklearn.model_selection import train_test_split\n",
    "\n",
    "df = pd.read_csv('https://archive.ics.uci.edu/ml/'\n",
    "                 'machine-learning-databases'\n",
    "                 '/breast-cancer-wisconsin/wdbc.data', header=None)\n",
    "X = df.loc[:, 2:].values\n",
    "y = df.loc[:, 1].values\n",
    "le = LabelEncoder()\n",
    "y = le.fit_transform(y) # 문자열을 정수로 인코딩\n",
    "\n",
    "X_imb = np.vstack((X[y == 0], X[y == 1][:40]))\n",
    "y_imb = np.hstack((y[y == 0], y[y == 1][:40]))\n",
    "y_pred = np.zeros(y_imb.shape[0])\n",
    "np.mean(y_pred == y_imb) * 100"
   ]
  },
  {
   "cell_type": "code",
   "execution_count": 2,
   "metadata": {},
   "outputs": [],
   "source": [
    "# 불균형 데이터에 대해서는 정확도 외 정밀도, 재현율, ROC curve 등을 사용하는 것이 더 좋음\n",
    "## 정밀도(PRE) = 옳게분류된 양성샘플 / 양성으로분류한 샘플\n",
    "## 재현율(REC) = TPR\n",
    "## F1-score = PRE와 REC를 조합한 점수 = 2*PRE*REC/(PRE+REC)\n",
    "\n",
    "# 모델 훈련시 불균형 클래스를 다루는 방법 (1)\n",
    "## 소수 클래스에서 발생한 예측 오류에 큰 가중치(벌칙) 부여\n",
    "## sklearn 분류기의 매개변수 class_weight = 'balanced'로 설정\n",
    "\n",
    "# 모델 훈련시 불균형 클래스를 다루는 방법 (2)\n",
    "## 데이터셋에서 중복을 허용한 샘플 추출하여 불균형 클래스의 비율을 맞춤\n",
    "## 소수 클래스의 샘플을 늘리거나(umsampling) 다수 클래스 샘플을 삭제(downsampling)"
   ]
  },
  {
   "cell_type": "code",
   "execution_count": 4,
   "metadata": {},
   "outputs": [
    {
     "name": "stdout",
     "output_type": "stream",
     "text": [
      "샘플링하기 전의 클래스 1의 샘플 개수: 40\n",
      "샘플링한 후의 클래스 1의 샘플 개수: 357\n"
     ]
    }
   ],
   "source": [
    "# upsampling\n",
    "\n",
    "from sklearn.utils import resample\n",
    "\n",
    "print('샘플링하기 전의 클래스 1의 샘플 개수:', X_imb[y_imb == 1].shape[0])\n",
    "\n",
    "X_upsampled, y_upsampled = resample(X_imb[y_imb == 1],\n",
    "                                    y_imb[y_imb == 1],\n",
    "                                    replace=True,\n",
    "                                    n_samples=X_imb[y_imb == 0].shape[0],\n",
    "                                    random_state=123)\n",
    "\n",
    "print('샘플링한 후의 클래스 1의 샘플 개수:', X_upsampled.shape[0])"
   ]
  },
  {
   "cell_type": "code",
   "execution_count": 5,
   "metadata": {},
   "outputs": [
    {
     "name": "stdout",
     "output_type": "stream",
     "text": [
      "샘플링하기 전의 클래스 0의 샘플 개수: 357\n",
      "샘플링한 후의 클래스 0의 샘플 개수: 40\n"
     ]
    }
   ],
   "source": [
    "# downsampling\n",
    "\n",
    "from sklearn.utils import resample\n",
    "\n",
    "print('샘플링하기 전의 클래스 0의 샘플 개수:', X_imb[y_imb == 0].shape[0])\n",
    "\n",
    "X_downsampled, y_downsampled = resample(X_imb[y_imb == 0],\n",
    "                                    y_imb[y_imb == 0],\n",
    "                                    replace=True,\n",
    "                                    n_samples=X_imb[y_imb == 1].shape[0],\n",
    "                                    random_state=123)\n",
    "\n",
    "print('샘플링한 후의 클래스 0의 샘플 개수:', X_downsampled.shape[0])"
   ]
  },
  {
   "cell_type": "code",
   "execution_count": null,
   "metadata": {},
   "outputs": [],
   "source": []
  }
 ],
 "metadata": {
  "kernelspec": {
   "display_name": "Python 3",
   "language": "python",
   "name": "python3"
  },
  "language_info": {
   "codemirror_mode": {
    "name": "ipython",
    "version": 3
   },
   "file_extension": ".py",
   "mimetype": "text/x-python",
   "name": "python",
   "nbconvert_exporter": "python",
   "pygments_lexer": "ipython3",
   "version": "3.7.7"
  }
 },
 "nbformat": 4,
 "nbformat_minor": 4
}
