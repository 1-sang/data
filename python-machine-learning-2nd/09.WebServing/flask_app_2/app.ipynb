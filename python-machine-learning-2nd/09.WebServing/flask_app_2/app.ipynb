{
 "cells": [
  {
   "cell_type": "code",
   "execution_count": 1,
   "metadata": {},
   "outputs": [
    {
     "name": "stdout",
     "output_type": "stream",
     "text": [
      "Writing app.py\n"
     ]
    }
   ],
   "source": [
    "%%writefile app.py\n",
    "\n",
    "from flask import Flask, render_template, request\n",
    "from wtforms import Form, TextAreaField, validators\n",
    "\n",
    "app = Flask(__name__)\n",
    "\n",
    "class HelloForm(Form):\n",
    "    sayhello = TextAreaField('',[validators.DataRequired()])\n",
    "\n",
    "# 시작페이지에 텍스트필드 추가\n",
    "@app.route('/')\n",
    "def index():\n",
    "    form = HelloForm(request.form)\n",
    "    return render_template('first_app.html', form=form)\n",
    "\n",
    "# html 폼으로 전달된 내용을 검증한 후 hello.html 페이지를 출력\n",
    "@app.route('/hello', methods=['POST'])\n",
    "def hello():\n",
    "    form = HelloForm(request.form)\n",
    "    if request.method == 'POST' and form.validate():\n",
    "        name = request.form['sayhello']\n",
    "        return render_template('hello.html', name=name)\n",
    "    return render_template('first_app.html', form=form)\n",
    "\n",
    "if __name__ == '__main__':\n",
    "    app.run(debug=True)"
   ]
  },
  {
   "cell_type": "code",
   "execution_count": null,
   "metadata": {},
   "outputs": [],
   "source": []
  }
 ],
 "metadata": {
  "kernelspec": {
   "display_name": "Python 3",
   "language": "python",
   "name": "python3"
  },
  "language_info": {
   "codemirror_mode": {
    "name": "ipython",
    "version": 3
   },
   "file_extension": ".py",
   "mimetype": "text/x-python",
   "name": "python",
   "nbconvert_exporter": "python",
   "pygments_lexer": "ipython3",
   "version": "3.7.7"
  }
 },
 "nbformat": 4,
 "nbformat_minor": 4
}
