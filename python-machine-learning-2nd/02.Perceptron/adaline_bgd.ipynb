{
 "cells": [
  {
   "cell_type": "code",
   "execution_count": 2,
   "metadata": {},
   "outputs": [],
   "source": [
    "import numpy as np\n",
    "\n",
    "class AdalineGD(object):\n",
    "    def __init__(self, eta = 0.01, n_iter = 50, random_state = 1):\n",
    "        self.eta = eta ## 학습률\n",
    "        self.n_iter = n_iter ## 훈련 반복 횟수\n",
    "        self.random_state = random_state ## 난수 시드\n",
    "\n",
    "    def fit(self, X, y):\n",
    "        rgen = np.random.RandomState(self.random_state) ## 난수 생성\n",
    "        self.w_ = rgen.normal(loc=0.0, scale=0.01, size=1 + X.shape[1]) ## 초기 가중치 생성\n",
    "        self.cost_ = [] ## 비용 담을 리스트 생성\n",
    "        \n",
    "        for i in range(self.n_iter): ## 전체 훈련 데이터셋을 기반으로 가중치 업데이트\n",
    "            net_input = self.net_input(X)\n",
    "            output = self.activation(net_input)\n",
    "            errors = y - output\n",
    "            self.w_[1:] += self.eta * X.T.dot(errors) ## X.T.dot(errors): 특성 행렬과 오차 벡터간의 행렬-벡터 곱셈\n",
    "            self.w_[0] += self.eta * errors.sum()\n",
    "            cost = (errors ** 2).sum() / 2.0\n",
    "            self.cost_.append(cost)\n",
    "        return self\n",
    "            \n",
    "            \n",
    "    def net_input(self, X):\n",
    "        return np.dot(X, self.w_[1:]) + self.w_[0] ## 입력에 대한 계산 결과\n",
    "\n",
    "    def activation(self, X):\n",
    "        return X ## 액티베이션 함수로 y = x 사용\n",
    "\n",
    "    def predict(self, X):\n",
    "        return np.where(self.activation(self.net_input(X)) >= 0.0, 1, -1) ## 분류 함수: 1 혹은 -1"
   ]
  },
  {
   "cell_type": "code",
   "execution_count": null,
   "metadata": {},
   "outputs": [],
   "source": []
  }
 ],
 "metadata": {
  "kernelspec": {
   "display_name": "Python 3",
   "language": "python",
   "name": "python3"
  },
  "language_info": {
   "codemirror_mode": {
    "name": "ipython",
    "version": 3
   },
   "file_extension": ".py",
   "mimetype": "text/x-python",
   "name": "python",
   "nbconvert_exporter": "python",
   "pygments_lexer": "ipython3",
   "version": "3.7.7"
  }
 },
 "nbformat": 4,
 "nbformat_minor": 4
}
