{
 "cells": [
  {
   "cell_type": "code",
   "execution_count": 1,
   "metadata": {},
   "outputs": [],
   "source": [
    "import numpy as np\n",
    "\n",
    "class Perceptron(object):\n",
    "    def __init__(self, eta = 0.01, n_iter = 50, random_state = 1):\n",
    "        self.eta = eta ## eta : 학습률 (0~1 사이 값)\n",
    "        self.n_iter = n_iter ## n_iter : 훈련 데이터셋 반복 횟수\n",
    "        self.random_state = random_state ## random_state : 난수 생성기 시드\n",
    "    def fit(self, X, y):\n",
    "        rgen = np.random.RandomState(self.random_state) ## 로컬에서는 시드가 같으면 같은 난수를 생성해줌\n",
    "        self.w_ = rgen.normal(loc = 0.0, scale = 0.01, \n",
    "                             size = 1 + X.shape[1]) ## w_ : 학습된 가중치\n",
    "        self.errors_ = [] ## errors_ : epoch마다 누적된 오류\n",
    "        \n",
    "        for _ in range(self.n_iter):\n",
    "            errors = 0\n",
    "            for x_i, target in zip(X,y): ## zip: 동일한 개수의 list 를 묶어줌\n",
    "                update = self.eta * (target - self.predict(x_i))\n",
    "                self.w_[1:] += update * x_i\n",
    "                self.w_[0] += update * 1 ## x_0은 1과 동일\n",
    "                errors += int(update != 0.0)\n",
    "            self.errors_.append(errors)\n",
    "        return self\n",
    "                \n",
    "                \n",
    "    def net_input(self, X):\n",
    "        return np.dot(X, self.w_[1:]) + self.w_[0]\n",
    "    \n",
    "    def predict(self, X):\n",
    "        return np.where(self.net_input(X) >= 0.00, 1, -1)\n",
    "                "
   ]
  }
 ],
 "metadata": {
  "kernelspec": {
   "display_name": "Python 3",
   "language": "python",
   "name": "python3"
  },
  "language_info": {
   "codemirror_mode": {
    "name": "ipython",
    "version": 3
   },
   "file_extension": ".py",
   "mimetype": "text/x-python",
   "name": "python",
   "nbconvert_exporter": "python",
   "pygments_lexer": "ipython3",
   "version": "3.7.7"
  }
 },
 "nbformat": 4,
 "nbformat_minor": 4
}
