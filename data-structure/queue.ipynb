{
 "cells": [
  {
   "cell_type": "code",
   "execution_count": 2,
   "metadata": {},
   "outputs": [],
   "source": [
    "# queue: FIFO 구조로 데이터를 저장\n",
    "# 리스트를 통해 queue를 구현할 경우\n",
    "## 추가: .append(data)의 경우 O(1) 시간복잡도\n",
    "## 삭제: .pop(0)으로 수행해야 하는데 O(n)의 시간복잡도\n",
    "\n",
    "# 파이썬의 deque를 이용하여 queue를 구현하는 것이 가장 빠름\n",
    "## deque: double-ended queue, 양방향에서 데이터를 처리\n",
    "## 앞뒤에서 데이터를 처리할때 모두 O(1) 시간복잡도\n",
    "\n",
    "from collections import deque\n",
    "\n",
    "dq = deque([])\n",
    "dq.append(1)\n",
    "dq.append(2)\n",
    "dq.append(3)"
   ]
  },
  {
   "cell_type": "code",
   "execution_count": 3,
   "metadata": {},
   "outputs": [
    {
     "name": "stdout",
     "output_type": "stream",
     "text": [
      "deque([1, 2, 3])\n"
     ]
    }
   ],
   "source": [
    "print(dq)"
   ]
  },
  {
   "cell_type": "code",
   "execution_count": 4,
   "metadata": {},
   "outputs": [
    {
     "name": "stdout",
     "output_type": "stream",
     "text": [
      "1\n",
      "deque([2, 3])\n"
     ]
    }
   ],
   "source": [
    "popResult = dq.popleft()\n",
    "print(popResult)\n",
    "print(dq)"
   ]
  },
  {
   "cell_type": "code",
   "execution_count": null,
   "metadata": {},
   "outputs": [],
   "source": []
  }
 ],
 "metadata": {
  "kernelspec": {
   "display_name": "Python 3",
   "language": "python",
   "name": "python3"
  },
  "language_info": {
   "codemirror_mode": {
    "name": "ipython",
    "version": 3
   },
   "file_extension": ".py",
   "mimetype": "text/x-python",
   "name": "python",
   "nbconvert_exporter": "python",
   "pygments_lexer": "ipython3",
   "version": "3.7.7"
  }
 },
 "nbformat": 4,
 "nbformat_minor": 4
}
