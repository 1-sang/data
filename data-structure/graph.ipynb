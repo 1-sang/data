{
 "cells": [
  {
   "cell_type": "code",
   "execution_count": 1,
   "metadata": {},
   "outputs": [],
   "source": [
    "# 그래프의 구성\n",
    "## 노드(= node, vertex, 꼭지점) 집합 V\n",
    "## 엣지(= edge, 간선) 집합 E\n",
    "## 노드에는 데이터, 엣지에는 노드와 노드 사이의 정보가 포함\n",
    "\n",
    "# G = (V, E)\n",
    "## V = {v1, v2, v3}\n",
    "## E = {e1, e2, e3}\n",
    "## e1 = (v1, v2), e2 = (v1, v3), e3 = (v2, v3)\n",
    "\n",
    "# 가중그래프: 엣지에 가중치가 포함된 경우\n",
    "# 방향그래프: 엣지가 방향성을 가짐\n",
    "\n",
    "# 그래프를 구현하는 방식\n",
    "## 인접 행렬\n",
    "## 인접 리스트"
   ]
  },
  {
   "cell_type": "code",
   "execution_count": 7,
   "metadata": {},
   "outputs": [],
   "source": [
    "# 그래프 구현\n",
    "# reference: https://www.python-course.eu/graphs_python.php\n",
    "\n",
    "class Graph(object):\n",
    "    def __init__(self, graph_dict = None):\n",
    "        if graph_dict == None:\n",
    "            graph_dict = {}\n",
    "        self.__graph_dict = graph_dict\n",
    "        \n",
    "    def vertices(self):\n",
    "        return list(self.__graph_dict.keys())\n",
    "    \n",
    "    def edges(self):\n",
    "        return self.__generate_edges()\n",
    "    \n",
    "    def add_vertex(self, vertex):\n",
    "        if vertex not in self.__graph_dict:\n",
    "            self.__graph_dict[vertex] = []\n",
    "    \n",
    "    def add_edge(self, edge):\n",
    "        edge = set(edge)\n",
    "        (vertex1, vertex2) = tuple(edge)\n",
    "        if vertex1 in self.__graph_dict:\n",
    "            self.__graph_dict[vertex1].append(vertex2)\n",
    "        else:\n",
    "            self.__graph_dict[vertex1] = [vertex2]\n",
    "    \n",
    "    def __generate_edges(self):\n",
    "        edges = []\n",
    "        for vertex in self.__graph_dict:\n",
    "            for neighbour in self.__graph_dict[vertex]:\n",
    "                if {neighbour, vertex} not in edges:\n",
    "                    edges.append({vertex, neighbour})\n",
    "        return edges\n",
    "    \n",
    "    def __str__(self):\n",
    "        res = \"vertices: \"\n",
    "        for k in self.__graph_dict:\n",
    "            res += str(k) + \" \"\n",
    "        res += \"\\nedges: \"\n",
    "        for edge in self.__generate_edges():\n",
    "            res += str(edge) + \" \"\n",
    "        return res"
   ]
  },
  {
   "cell_type": "code",
   "execution_count": 8,
   "metadata": {},
   "outputs": [],
   "source": [
    "g = { \"a\" : [\"d\"],\n",
    "          \"b\" : [\"c\"],\n",
    "          \"c\" : [\"b\", \"c\", \"d\", \"e\"],\n",
    "          \"d\" : [\"a\", \"c\"],\n",
    "          \"e\" : [\"c\"],\n",
    "          \"f\" : []\n",
    "        }\n",
    "\n",
    "graph = Graph(g)"
   ]
  },
  {
   "cell_type": "code",
   "execution_count": 9,
   "metadata": {},
   "outputs": [
    {
     "data": {
      "text/plain": [
       "['a', 'b', 'c', 'd', 'e', 'f']"
      ]
     },
     "execution_count": 9,
     "metadata": {},
     "output_type": "execute_result"
    }
   ],
   "source": [
    "graph.vertices()"
   ]
  },
  {
   "cell_type": "code",
   "execution_count": 10,
   "metadata": {},
   "outputs": [
    {
     "data": {
      "text/plain": [
       "[{'a', 'd'}, {'b', 'c'}, {'c'}, {'c', 'd'}, {'c', 'e'}]"
      ]
     },
     "execution_count": 10,
     "metadata": {},
     "output_type": "execute_result"
    }
   ],
   "source": [
    "graph.edges()"
   ]
  },
  {
   "cell_type": "code",
   "execution_count": 11,
   "metadata": {},
   "outputs": [
    {
     "data": {
      "text/plain": [
       "['a', 'b', 'c', 'd', 'e', 'f', 'z']"
      ]
     },
     "execution_count": 11,
     "metadata": {},
     "output_type": "execute_result"
    }
   ],
   "source": [
    "graph.add_vertex(\"z\")\n",
    "graph.vertices()"
   ]
  },
  {
   "cell_type": "code",
   "execution_count": 12,
   "metadata": {},
   "outputs": [
    {
     "name": "stdout",
     "output_type": "stream",
     "text": [
      "[{'d', 'a'}, {'b', 'c'}, {'c'}, {'d', 'c'}, {'e', 'c'}, {'z', 'a'}]\n"
     ]
    }
   ],
   "source": [
    "graph.add_edge({\"a\",\"z\"})\n",
    "print(graph.edges())"
   ]
  },
  {
   "cell_type": "code",
   "execution_count": 13,
   "metadata": {},
   "outputs": [
    {
     "name": "stdout",
     "output_type": "stream",
     "text": [
      "['a', 'b', 'c', 'd', 'e', 'f', 'z', 'y']\n",
      "[{'d', 'a'}, {'b', 'c'}, {'c'}, {'d', 'c'}, {'e', 'c'}, {'z', 'a'}, {'y', 'x'}]\n"
     ]
    }
   ],
   "source": [
    "graph.add_edge({\"x\",\"y\"})\n",
    "print(graph.vertices())\n",
    "print(graph.edges())"
   ]
  },
  {
   "cell_type": "code",
   "execution_count": null,
   "metadata": {},
   "outputs": [],
   "source": []
  }
 ],
 "metadata": {
  "kernelspec": {
   "display_name": "Python 3",
   "language": "python",
   "name": "python3"
  },
  "language_info": {
   "codemirror_mode": {
    "name": "ipython",
    "version": 3
   },
   "file_extension": ".py",
   "mimetype": "text/x-python",
   "name": "python",
   "nbconvert_exporter": "python",
   "pygments_lexer": "ipython3",
   "version": "3.7.7"
  }
 },
 "nbformat": 4,
 "nbformat_minor": 4
}
