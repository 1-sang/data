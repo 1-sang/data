{
 "cells": [
  {
   "cell_type": "code",
   "execution_count": 1,
   "metadata": {},
   "outputs": [],
   "source": [
    "# Singly linked list 구현\n",
    "\n",
    "# 1. list 정의에 앞서 node 정의\n",
    "class Node(object):\n",
    "    def __init__(self, data):\n",
    "        self.data = data\n",
    "        self.next = None # 다음 연결 리스트\n",
    "        \n",
    "# 2. singly linked list 정의\n",
    "class SinglyLinkedList(object):\n",
    "    def __init__(self):\n",
    "        self.head = None\n",
    "        self.count = 0\n",
    "    # list에 노드를 더하는 함수\n",
    "    def append(self, node):\n",
    "        if self.head == None:\n",
    "            self.head = node\n",
    "        else:\n",
    "            cur = self.head\n",
    "            while cur.next != None:\n",
    "                cur = cur.next\n",
    "            cur.next = node\n",
    "            \n",
    "    # list에서 일치하는 값의 노드 인덱스 반환\n",
    "    def getDataIndex(self, data):\n",
    "        curn = self.head\n",
    "        idx = 0\n",
    "        while curn:\n",
    "            if curn.data == data:\n",
    "                return idx\n",
    "            curn = curn.next\n",
    "            idx += 1\n",
    "        return -1\n",
    "    \n",
    "    # 주어진 인덱스 위치에 새로운 노드 삽입\n",
    "    def insertNode(self, idx, node):\n",
    "        curn = self.head\n",
    "        prevn = None\n",
    "        cur_i = 0\n",
    "        \n",
    "        if idx == 0:\n",
    "            if self.head:\n",
    "                nextn = self.head\n",
    "                self.head = node\n",
    "                self.head.next = nextn\n",
    "            else:\n",
    "                self.head = node\n",
    "        else:\n",
    "            while cur_i < idx:\n",
    "                if curn:\n",
    "                    prevn = curn\n",
    "                    curn = curn.next\n",
    "                else:\n",
    "                    break\n",
    "                cur_i += 1\n",
    "            if cur_i == idx:\n",
    "                node.next = curn\n",
    "                prevn.next = node\n",
    "            else:\n",
    "                return -1\n",
    "            \n",
    "    # 주어진 인덱스 위치의 노드 삭제\n",
    "    def deleteNode(self, idx):\n",
    "        curn_i = 0\n",
    "        curn = self.head\n",
    "        prevn = None\n",
    "        nextn = self.head.next\n",
    "        if idx == 0:\n",
    "            self.head = nextn\n",
    "        else:\n",
    "            while curn_i < idx:\n",
    "                if curn.next:\n",
    "                    prevn = curn\n",
    "                    curn = nextn\n",
    "                    nextn = nextn.next\n",
    "                else:\n",
    "                    break\n",
    "                curn_i += 1\n",
    "            if curn_i == idx:\n",
    "                prevn.next = nextn\n",
    "            else:\n",
    "                return -1\n",
    "            \n",
    "    # 전체 리스트 출력\n",
    "    def printList(self):\n",
    "        curn = self.head\n",
    "        string = \"\"\n",
    "        while curn:\n",
    "            string += str(curn.data)\n",
    "            if curn.next:\n",
    "                string += \"->\"\n",
    "            curn = curn.next\n",
    "        print(string)"
   ]
  },
  {
   "cell_type": "code",
   "execution_count": 2,
   "metadata": {},
   "outputs": [],
   "source": [
    "# 단일연결리스트 테스트\n",
    "test = SinglyLinkedList()"
   ]
  },
  {
   "cell_type": "code",
   "execution_count": 3,
   "metadata": {},
   "outputs": [],
   "source": [
    "test.append(Node(1))"
   ]
  },
  {
   "cell_type": "code",
   "execution_count": 4,
   "metadata": {},
   "outputs": [],
   "source": [
    "test.append(Node(2))"
   ]
  },
  {
   "cell_type": "code",
   "execution_count": 6,
   "metadata": {},
   "outputs": [
    {
     "name": "stdout",
     "output_type": "stream",
     "text": [
      "1->2\n"
     ]
    }
   ],
   "source": [
    "test.printList()"
   ]
  },
  {
   "cell_type": "code",
   "execution_count": 7,
   "metadata": {},
   "outputs": [],
   "source": [
    "test.append(Node(3))\n",
    "test.append(Node(4))"
   ]
  },
  {
   "cell_type": "code",
   "execution_count": 8,
   "metadata": {},
   "outputs": [],
   "source": [
    "test.insertNode(2,Node(10))"
   ]
  },
  {
   "cell_type": "code",
   "execution_count": 9,
   "metadata": {},
   "outputs": [
    {
     "name": "stdout",
     "output_type": "stream",
     "text": [
      "1->2->10->3->4\n"
     ]
    }
   ],
   "source": [
    "test.printList()"
   ]
  },
  {
   "cell_type": "code",
   "execution_count": 10,
   "metadata": {},
   "outputs": [],
   "source": [
    "test.deleteNode(2)"
   ]
  },
  {
   "cell_type": "code",
   "execution_count": 11,
   "metadata": {},
   "outputs": [
    {
     "name": "stdout",
     "output_type": "stream",
     "text": [
      "1->2->3->4\n"
     ]
    }
   ],
   "source": [
    "test.printList()"
   ]
  },
  {
   "cell_type": "code",
   "execution_count": null,
   "metadata": {},
   "outputs": [],
   "source": []
  }
 ],
 "metadata": {
  "kernelspec": {
   "display_name": "Python 3",
   "language": "python",
   "name": "python3"
  },
  "language_info": {
   "codemirror_mode": {
    "name": "ipython",
    "version": 3
   },
   "file_extension": ".py",
   "mimetype": "text/x-python",
   "name": "python",
   "nbconvert_exporter": "python",
   "pygments_lexer": "ipython3",
   "version": "3.7.7"
  }
 },
 "nbformat": 4,
 "nbformat_minor": 4
}
