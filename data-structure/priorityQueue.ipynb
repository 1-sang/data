{
 "cells": [
  {
   "cell_type": "code",
   "execution_count": 7,
   "metadata": {},
   "outputs": [
    {
     "name": "stdout",
     "output_type": "stream",
     "text": [
      "[(1, 10), (2, 100), (3, 1), (4, 5)]\n"
     ]
    }
   ],
   "source": [
    "# Priority Queue: 우선순위 큐\n",
    "## 각 원소들이 우선순위 값을 가지고 있으며, 낮은 값을 가질수록 먼저 나옴\n",
    "## heapq 모듈로 구현 가능: 이진트리 기반 최소 힙 자료구조\n",
    "\n",
    "import heapq\n",
    "\n",
    "hq = []\n",
    "heapq.heappush(hq, (3, 1))\n",
    "heapq.heappush(hq, (4, 5))\n",
    "heapq.heappush(hq, (1, 10))\n",
    "heapq.heappush(hq, (2, 100))\n",
    "print(hq)"
   ]
  },
  {
   "cell_type": "code",
   "execution_count": 8,
   "metadata": {},
   "outputs": [
    {
     "name": "stdout",
     "output_type": "stream",
     "text": [
      "(1, 10)\n",
      "[(2, 100), (4, 5), (3, 1)]\n"
     ]
    }
   ],
   "source": [
    "# 우선순위큐에서는 원소 삭제시 가장 우선순위 낮은것이 먼저 나옴\n",
    "# .heappush(queue,data)와 .heappop(queue) 모두 O(log n) 시간복잡도를 가짐\n",
    "popResult = heapq.heappop(hq)\n",
    "print(popResult)\n",
    "print(hq)"
   ]
  },
  {
   "cell_type": "code",
   "execution_count": 9,
   "metadata": {},
   "outputs": [
    {
     "name": "stdout",
     "output_type": "stream",
     "text": [
      "(2, 100)\n",
      "[(2, 100), (4, 5), (3, 1)]\n"
     ]
    }
   ],
   "source": [
    "# 최소값을 삭제하지 않고 읽는 법\n",
    "minVal = hq[0]\n",
    "print(minVal)\n",
    "print(hq)"
   ]
  },
  {
   "cell_type": "code",
   "execution_count": 10,
   "metadata": {},
   "outputs": [
    {
     "name": "stdout",
     "output_type": "stream",
     "text": [
      "[30, 50, 70, 100, 200]\n"
     ]
    }
   ],
   "source": [
    "# 리스트를 우선순위 큐로도 변환 가능\n",
    "# 원소를 하나씩 추가하는 것과 동일 > O(n) 시간복잡도\n",
    "simpleList = [100, 50, 70, 30, 200]\n",
    "heapq.heapify(simpleList)\n",
    "print(simpleList)"
   ]
  },
  {
   "cell_type": "code",
   "execution_count": null,
   "metadata": {},
   "outputs": [],
   "source": []
  }
 ],
 "metadata": {
  "kernelspec": {
   "display_name": "Python 3",
   "language": "python",
   "name": "python3"
  },
  "language_info": {
   "codemirror_mode": {
    "name": "ipython",
    "version": 3
   },
   "file_extension": ".py",
   "mimetype": "text/x-python",
   "name": "python",
   "nbconvert_exporter": "python",
   "pygments_lexer": "ipython3",
   "version": "3.7.7"
  }
 },
 "nbformat": 4,
 "nbformat_minor": 4
}
