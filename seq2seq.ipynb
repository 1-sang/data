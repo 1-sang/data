{
  "nbformat": 4,
  "nbformat_minor": 0,
  "metadata": {
    "colab": {
      "name": "seq2seq.ipynb",
      "provenance": []
    },
    "kernelspec": {
      "name": "python3",
      "display_name": "Python 3"
    },
    "accelerator": "GPU"
  },
  "cells": [
    {
      "cell_type": "code",
      "metadata": {
        "id": "P0JvNTdQlygG",
        "colab_type": "code",
        "colab": {}
      },
      "source": [
        "import random\n",
        "import torch\n",
        "import torch.nn as nn\n",
        "from torch import optim"
      ],
      "execution_count": 0,
      "outputs": []
    },
    {
      "cell_type": "markdown",
      "metadata": {
        "id": "Z_GMODt3pdTh",
        "colab_type": "text"
      },
      "source": [
        "encoder부분에서 seq를 쭉 받아서 하나의 벡터로 만들고,\n",
        "해당 hidden state값을 decoder 첫 값으로 넣어줌\n",
        "\n",
        "rnn 두개를 만들어서 붙이는 것과 같은 방식!"
      ]
    },
    {
      "cell_type": "code",
      "metadata": {
        "id": "AgYmzDTjmJeS",
        "colab_type": "code",
        "colab": {}
      },
      "source": [
        "torch.manual_seed(0)\n",
        "device = torch.device(\"cuda\" if torch.cuda.is_available() else \"cpu\")"
      ],
      "execution_count": 0,
      "outputs": []
    },
    {
      "cell_type": "code",
      "metadata": {
        "id": "wWm_hA94nRAD",
        "colab_type": "code",
        "outputId": "9be080d5-08bb-4682-c99e-e23c51de0b70",
        "colab": {
          "base_uri": "https://localhost:8080/",
          "height": 35
        }
      },
      "source": [
        "torch.cuda.get_device_name(0)"
      ],
      "execution_count": 0,
      "outputs": [
        {
          "output_type": "execute_result",
          "data": {
            "text/plain": [
              "'Tesla K80'"
            ]
          },
          "metadata": {
            "tags": []
          },
          "execution_count": 3
        }
      ]
    },
    {
      "cell_type": "code",
      "metadata": {
        "id": "y2FgyRLUmNBQ",
        "colab_type": "code",
        "colab": {}
      },
      "source": [
        "# 매우 적은 값을 test 데이터로 사용\n",
        "raw = [\"I feel hungry.\t나는 배가 고프다.\",\n",
        "       \"Pytorch is very easy.\t파이토치는 매우 쉽다.\",\n",
        "       \"Pytorch is a framework for deep learning.\t파이토치는 딥러닝을 위한 프레임워크이다.\",\n",
        "       \"Pytorch is very clear to use.\t파이토치는 사용하기 매우 직관적이다.\",\n",
        "       \"I am Hongki.\t나는 홍기다.\",\n",
        "       \"I am Kihun.\t나는 기훈이다.\",\n",
        "       \"Hongki love Pytorch.\t홍기는 파이토치를 사랑한다.\",\n",
        "       \"Kihun hate Pytorch.\t기훈이는 파이토치를 싫어한다.\"]"
      ],
      "execution_count": 0,
      "outputs": []
    },
    {
      "cell_type": "code",
      "metadata": {
        "id": "FV-Gh_kXmPAY",
        "colab_type": "code",
        "colab": {}
      },
      "source": [
        "# fix token for \"start of sentence\" and \"end of sentence\"\n",
        "SOS_token = 0 # Start of Sentence\n",
        "EOS_token = 1 # End of Sentence"
      ],
      "execution_count": 0,
      "outputs": []
    },
    {
      "cell_type": "code",
      "metadata": {
        "id": "O64UiLJhmRoA",
        "colab_type": "code",
        "colab": {}
      },
      "source": [
        "# class for vocabulary related information of data\n",
        "class Vocab:\n",
        "    def __init__(self):\n",
        "        self.vocab2index = {\"<SOS>\": SOS_token, \"<EOS>\": EOS_token}\n",
        "        self.index2vocab = {SOS_token: \"<SOS>\", EOS_token: \"<EOS>\"}\n",
        "        self.vocab_count = {}\n",
        "        self.n_vocab = len(self.vocab2index)\n",
        "\n",
        "    def add_vocab(self, sentence):\n",
        "        for word in sentence.split(\" \"):\n",
        "            if word not in self.vocab2index:\n",
        "                self.vocab2index[word] = self.n_vocab\n",
        "                self.vocab_count[word] = 1\n",
        "                self.index2vocab[self.n_vocab] = word\n",
        "                self.n_vocab += 1\n",
        "            else:\n",
        "                self.vocab_count[word] += 1"
      ],
      "execution_count": 0,
      "outputs": []
    },
    {
      "cell_type": "code",
      "metadata": {
        "id": "f81UcI9_mS7o",
        "colab_type": "code",
        "colab": {}
      },
      "source": [
        "# filter out the long sentence from source and target data\n",
        "def filter_pair(pair, source_max_length, target_max_length):\n",
        "    return len(pair[0].split(\" \")) < source_max_length and len(pair[1].split(\" \")) < target_max_length"
      ],
      "execution_count": 0,
      "outputs": []
    },
    {
      "cell_type": "code",
      "metadata": {
        "id": "iDTGymLomUJY",
        "colab_type": "code",
        "colab": {}
      },
      "source": [
        "# read and preprocess the corpus data\n",
        "def preprocess(corpus, source_max_length, target_max_length):\n",
        "    print(\"reading corpus...\")\n",
        "    pairs = []\n",
        "    for line in corpus:\n",
        "        pairs.append([s for s in line.strip().lower().split(\"\\t\")])\n",
        "    print(\"Read {} sentence pairs\".format(len(pairs)))\n",
        "\n",
        "    pairs = [pair for pair in pairs if filter_pair(pair, source_max_length, target_max_length)]\n",
        "    print(\"Trimmed to {} sentence pairs\".format(len(pairs)))\n",
        "\n",
        "    source_vocab = Vocab() # 단어의 dictionary\n",
        "    target_vocab = Vocab()\n",
        "\n",
        "    print(\"Counting words...\")\n",
        "    for pair in pairs:\n",
        "        source_vocab.add_vocab(pair[0])\n",
        "        target_vocab.add_vocab(pair[1])\n",
        "    print(\"source vocab size =\", source_vocab.n_vocab)\n",
        "    print(\"target vocab size =\", target_vocab.n_vocab)\n",
        "\n",
        "    return pairs, source_vocab, target_vocab"
      ],
      "execution_count": 0,
      "outputs": []
    },
    {
      "cell_type": "code",
      "metadata": {
        "id": "6C3zCWiimVWQ",
        "colab_type": "code",
        "colab": {}
      },
      "source": [
        "# declare simple encoder. 보통은 attention이라던가... 다른 함수를 더 넣는다고 함\n",
        "class Encoder(nn.Module):\n",
        "    def __init__(self, input_size, hidden_size):\n",
        "        super(Encoder, self).__init__()\n",
        "        self.hidden_size = hidden_size\n",
        "        self.embedding = nn.Embedding(input_size, hidden_size) # 거대한 행렬에 해당. input: 들어오는 단어의 개수(각자는 one-hot 인코딩 되어있음). \n",
        "        self.gru = nn.GRU(hidden_size, hidden_size) # !!\n",
        "\n",
        "    def forward(self, x, hidden):\n",
        "        x = self.embedding(x).view(1, 1, -1) # embedding 행렬(단어개수*히든사이즈)과 input 행렬(1*단어개수)이 곱해져서 hidden-size 행렬(1*히든사이즈)이 나옴 \n",
        "        x, hidden = self.gru(x, hidden)\n",
        "        return x, hidden"
      ],
      "execution_count": 0,
      "outputs": []
    },
    {
      "cell_type": "code",
      "metadata": {
        "id": "DFH5if-2mWdQ",
        "colab_type": "code",
        "colab": {}
      },
      "source": [
        "# declare simple decoder\n",
        "class Decoder(nn.Module):\n",
        "    def __init__(self, hidden_size, output_size):\n",
        "        super(Decoder, self).__init__()\n",
        "        self.hidden_size = hidden_size\n",
        "        self.embedding = nn.Embedding(output_size, hidden_size)\n",
        "        self.gru = nn.GRU(hidden_size, hidden_size)\n",
        "        self.out = nn.Linear(hidden_size, output_size)\n",
        "        self.softmax = nn.LogSoftmax(dim=1)\n",
        "\n",
        "    def forward(self, x, hidden):\n",
        "        x = self.embedding(x).view(1, 1, -1)\n",
        "        x, hidden = self.gru(x, hidden)\n",
        "        x = self.softmax(self.out(x[0])) # 마지막에 단순 linier 추가. 히든사이즈를 아웃풋사이즈(=아웃풋단어개수)로 바꾸어줘야함\n",
        "        return x, hidden"
      ],
      "execution_count": 0,
      "outputs": []
    },
    {
      "cell_type": "code",
      "metadata": {
        "id": "fhv9PispmXkI",
        "colab_type": "code",
        "colab": {}
      },
      "source": [
        "# 보조함수: sentence를 입력받아 one-hot vector(index tensor)로 바꿔주는 역할\n",
        "def tensorize(vocab, sentence):\n",
        "    indexes = [vocab.vocab2index[word] for word in sentence.split(\" \")]\n",
        "    indexes.append(vocab.vocab2index[\"<EOS>\"])\n",
        "    return torch.Tensor(indexes).long().to(device).view(-1, 1)"
      ],
      "execution_count": 0,
      "outputs": []
    },
    {
      "cell_type": "code",
      "metadata": {
        "id": "cnNBlHPImZHY",
        "colab_type": "code",
        "colab": {}
      },
      "source": [
        "# training seq2seq\n",
        "def train(pairs, source_vocab, target_vocab, encoder, decoder, n_iter, print_every=1000, learning_rate=0.01):\n",
        "    loss_total = 0\n",
        "\n",
        "    encoder_optimizer = optim.SGD(encoder.parameters(), lr=learning_rate)\n",
        "    decoder_optimizer = optim.SGD(decoder.parameters(), lr=learning_rate)\n",
        "\n",
        "    training_batch = [random.choice(pairs) for _ in range(n_iter)]\n",
        "    # 데이터를 source, target으로 나눔...\n",
        "    training_source = [tensorize(source_vocab, pair[0]) for pair in training_batch]\n",
        "    training_target = [tensorize(target_vocab, pair[1]) for pair in training_batch]\n",
        "\n",
        "    criterion = nn.NLLLoss() #Negative Log Likelihood. 카테고리 value를 다룰 때 자주 쓰임 (crossEntropy도 자주쓰임)\n",
        "\n",
        "    for i in range(1, n_iter + 1):\n",
        "        source_tensor = training_source[i - 1]\n",
        "        target_tensor = training_target[i - 1]\n",
        "\n",
        "        encoder_hidden = torch.zeros([1, 1, encoder.hidden_size]).to(device) # 첫 hidden state는 0으로 넣어줌\n",
        "\n",
        "        encoder_optimizer.zero_grad()\n",
        "        decoder_optimizer.zero_grad()\n",
        "\n",
        "        source_length = source_tensor.size(0)\n",
        "        target_length = target_tensor.size(0)\n",
        "\n",
        "        loss = 0\n",
        "\n",
        "        for enc_input in range(source_length): # encoder로부터 hidden을 계속 뽑아냄\n",
        "            _, encoder_hidden = encoder(source_tensor[enc_input], encoder_hidden) \n",
        "\n",
        "        decoder_input = torch.Tensor([[SOS_token]]).long().to(device) # 처음 input은 SOS\n",
        "        decoder_hidden = encoder_hidden # encoder에서 나온 최종 hidden을 decoder 첫 hidden으로 사용\n",
        "\n",
        "        for di in range(target_length):\n",
        "            decoder_output, decoder_hidden = decoder(decoder_input, decoder_hidden)\n",
        "            loss += criterion(decoder_output, target_tensor[di])\n",
        "            decoder_input = target_tensor[di]  # teacher forcing: decoder에서 나온 output을 다음 rnn의 input으로 사용하는 것이 아니라, 정답을 그대로 사용하는 것 (확률적으로 사용하는 경우도 있음)\n",
        "\n",
        "        loss.backward()\n",
        "\n",
        "        encoder_optimizer.step()\n",
        "        decoder_optimizer.step()\n",
        "\n",
        "        loss_iter = loss.item() / target_length\n",
        "        loss_total += loss_iter\n",
        "\n",
        "        if i % print_every == 0:\n",
        "            loss_avg = loss_total / print_every\n",
        "            loss_total = 0\n",
        "            print(\"[{} - {}%] loss = {:05.4f}\".format(i, i / n_iter * 100, loss_avg))"
      ],
      "execution_count": 0,
      "outputs": []
    },
    {
      "cell_type": "code",
      "metadata": {
        "id": "8DAiVt2smbEo",
        "colab_type": "code",
        "colab": {}
      },
      "source": [
        "# insert given sentence to check the training\n",
        "def evaluate(pairs, source_vocab, target_vocab, encoder, decoder, target_max_length):\n",
        "    for pair in pairs:\n",
        "        print(\">\", pair[0])\n",
        "        print(\"=\", pair[1])\n",
        "        source_tensor = tensorize(source_vocab, pair[0])\n",
        "        source_length = source_tensor.size()[0]\n",
        "        encoder_hidden = torch.zeros([1, 1, encoder.hidden_size]).to(device)\n",
        "\n",
        "        for ei in range(source_length):\n",
        "            _, encoder_hidden = encoder(source_tensor[ei], encoder_hidden)\n",
        "\n",
        "        decoder_input = torch.cuda.FloatTensor([[SOS_token]], device=device).long()\n",
        "        decoder_hidden = encoder_hidden\n",
        "        decoded_words = []\n",
        "\n",
        "        for di in range(target_max_length):\n",
        "            decoder_output, decoder_hidden = decoder(decoder_input, decoder_hidden)\n",
        "            _, top_index = decoder_output.data.topk(1)\n",
        "            if top_index.item() == EOS_token:\n",
        "                decoded_words.append(\"<EOS>\")\n",
        "                break\n",
        "            else:\n",
        "                decoded_words.append(target_vocab.index2vocab[top_index.item()])\n",
        "\n",
        "            decoder_input = top_index.squeeze().detach()\n",
        "\n",
        "        predict_words = decoded_words\n",
        "        predict_sentence = \" \".join(predict_words)\n",
        "        print(\"<\", predict_sentence)\n",
        "        print(\"\")"
      ],
      "execution_count": 0,
      "outputs": []
    },
    {
      "cell_type": "markdown",
      "metadata": {
        "id": "8b8dUUBCokkz",
        "colab_type": "text"
      },
      "source": [
        "주의할점\n",
        "torch.Tensor나 torch.FloatTensor는 GPU 지원을 안함!\n",
        "GPU 상에서 사용하고싶다면 torch.cuda.FloatTensor를 사용해야 함.\n",
        "* 참고: https://pytorch.org/docs/stable/tensors.html"
      ]
    },
    {
      "cell_type": "code",
      "metadata": {
        "id": "Sfi4LvlfmdBI",
        "colab_type": "code",
        "colab": {}
      },
      "source": [
        "# declare max length for sentence\n",
        "SOURCE_MAX_LENGTH = 20\n",
        "TARGET_MAX_LENGTH = 30"
      ],
      "execution_count": 0,
      "outputs": []
    },
    {
      "cell_type": "code",
      "metadata": {
        "id": "YKVQuDJKmedY",
        "colab_type": "code",
        "outputId": "d2945552-88d0-42c8-f71b-9d76a2a0d258",
        "colab": {
          "base_uri": "https://localhost:8080/",
          "height": 143
        }
      },
      "source": [
        "# preprocess the corpus\n",
        "load_pairs, load_source_vocab, load_target_vocab = preprocess(raw, SOURCE_MAX_LENGTH, TARGET_MAX_LENGTH)\n",
        "print(random.choice(load_pairs))"
      ],
      "execution_count": 0,
      "outputs": [
        {
          "output_type": "stream",
          "text": [
            "reading corpus...\n",
            "Read 8 sentence pairs\n",
            "Trimmed to 8 sentence pairs\n",
            "Counting words...\n",
            "source vocab size = 25\n",
            "target vocab size = 20\n",
            "['i feel hungry.', '나는 배가 고프다.']\n"
          ],
          "name": "stdout"
        }
      ]
    },
    {
      "cell_type": "code",
      "metadata": {
        "id": "lAJl6juvmfpg",
        "colab_type": "code",
        "colab": {}
      },
      "source": [
        "# declare the encoder and the decoder\n",
        "enc_hidden_size = 16\n",
        "dec_hidden_size = enc_hidden_size\n",
        "enc = Encoder(load_source_vocab.n_vocab, enc_hidden_size).to(device)\n",
        "dec = Decoder(dec_hidden_size, load_target_vocab.n_vocab).to(device)"
      ],
      "execution_count": 0,
      "outputs": []
    },
    {
      "cell_type": "code",
      "metadata": {
        "id": "Y9goIYZKmhcg",
        "colab_type": "code",
        "outputId": "c2f3f272-a5e1-4fdd-cbad-39654d03182c",
        "colab": {
          "base_uri": "https://localhost:8080/",
          "height": 107
        }
      },
      "source": [
        "# train seq2seq model\n",
        "train(load_pairs, load_source_vocab, load_target_vocab, enc, dec, 5000, print_every=1000)"
      ],
      "execution_count": 0,
      "outputs": [
        {
          "output_type": "stream",
          "text": [
            "[1000 - 20.0%] loss = 1.3149\n",
            "[2000 - 40.0%] loss = 0.3536\n",
            "[3000 - 60.0%] loss = 0.1966\n",
            "[4000 - 80.0%] loss = 0.0960\n",
            "[5000 - 100.0%] loss = 0.0492\n"
          ],
          "name": "stdout"
        }
      ]
    },
    {
      "cell_type": "code",
      "metadata": {
        "id": "NmZjppJnEQ6G",
        "colab_type": "code",
        "colab": {}
      },
      "source": [
        "raw2 = [\"Love Hongki Pytorch.\t파이토치를 사랑한다 홍기찡.\",\n",
        "       \"Keras is very hungry.\t케라스 매우 배고프다.\",\n",
        "       \"Pytorch is Hongki.\t파이토치는 홍기다.\",\n",
        "       \"Wonsang hate Pytorch.\t원상이는 파이토치를 싫어한다.\",\n",
        "       \"Kihun love Pytorch.\t기훈이는 파이토치를 사랑한다.\"]"
      ],
      "execution_count": 0,
      "outputs": []
    },
    {
      "cell_type": "code",
      "metadata": {
        "id": "kJ5-GhbvFRX1",
        "colab_type": "code",
        "outputId": "a9ac20a5-ab13-4770-8bf5-2a71cfaead80",
        "colab": {
          "base_uri": "https://localhost:8080/",
          "height": 143
        }
      },
      "source": [
        "# preprocess the corpus\n",
        "load_pairs2, load_source_vocab2, load_target_vocab2 = preprocess(raw2, SOURCE_MAX_LENGTH, TARGET_MAX_LENGTH)\n",
        "print(random.choice(load_pairs2))"
      ],
      "execution_count": 0,
      "outputs": [
        {
          "output_type": "stream",
          "text": [
            "reading corpus...\n",
            "Read 5 sentence pairs\n",
            "Trimmed to 5 sentence pairs\n",
            "Counting words...\n",
            "source vocab size = 14\n",
            "target vocab size = 14\n",
            "['kihun love pytorch.', '기훈이는 파이토치를 사랑한다.']\n"
          ],
          "name": "stdout"
        }
      ]
    },
    {
      "cell_type": "code",
      "metadata": {
        "id": "GyjVEPAwmjoY",
        "colab_type": "code",
        "outputId": "bfa79ed6-8a5b-4294-cb27-d9f6c75ac8cf",
        "colab": {
          "base_uri": "https://localhost:8080/",
          "height": 377
        }
      },
      "source": [
        "# check the model with given data\n",
        "evaluate(load_pairs2, load_source_vocab2, load_target_vocab2, enc, dec, TARGET_MAX_LENGTH)"
      ],
      "execution_count": 0,
      "outputs": [
        {
          "output_type": "stream",
          "text": [
            "> love hongki pytorch.\n",
            "= 파이토치를 사랑한다 홍기찡.\n",
            "< 파이토치를 사랑한다 홍기찡. <EOS>\n",
            "\n",
            "> keras is very hungry.\n",
            "= 케라스 매우 배고프다.\n",
            "< 케라스 매우 배고프다. <EOS>\n",
            "\n",
            "> pytorch is hongki.\n",
            "= 파이토치는 홍기다.\n",
            "< 케라스 파이토치는 홍기다. 원상이는 <EOS>\n",
            "\n",
            "> wonsang hate pytorch.\n",
            "= 원상이는 파이토치를 싫어한다.\n",
            "< 파이토치를 사랑한다 홍기찡. <EOS>\n",
            "\n",
            "> kihun love pytorch.\n",
            "= 기훈이는 파이토치를 사랑한다.\n",
            "< 파이토치를 사랑한다 홍기찡. <EOS>\n",
            "\n"
          ],
          "name": "stdout"
        }
      ]
    },
    {
      "cell_type": "code",
      "metadata": {
        "id": "KCT6VDNSmwSw",
        "colab_type": "code",
        "colab": {}
      },
      "source": [
        ""
      ],
      "execution_count": 0,
      "outputs": []
    }
  ]
}